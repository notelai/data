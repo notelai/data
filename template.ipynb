{
 "cells": [
  {
   "cell_type": "markdown",
   "metadata": {
    "id": "QNIdiGfl7W3U"
   },
   "source": [
    "# Pre-Processing Data\n"
   ]
  },
  {
   "cell_type": "markdown",
   "metadata": {
    "id": "rDIALHauqzGu"
   },
   "source": [
    "## Load libraries"
   ]
  },
  {
   "cell_type": "code",
   "execution_count": 1,
   "metadata": {},
   "outputs": [],
   "source": [
    "#!pip install pandas\n",
    "#!pip install numpy\n",
    "#!pip install matplotlib\n",
    "#!pip install seaborn\n",
    "#!pip install datetime"
   ]
  },
  {
   "cell_type": "code",
   "execution_count": 2,
   "metadata": {
    "id": "MY3TiCty7uVP"
   },
   "outputs": [],
   "source": [
    "import pandas as pd\n",
    "import numpy as np\n",
    "import matplotlib.pyplot as plt\n",
    "import seaborn as sns\n",
    "\n",
    "# make plot show up without plt.show()\n",
    "%matplotlib inline\n",
    "\n",
    "# plot configurations\n",
    "plt.rcParams[\"figure.figsize\"] = (10, 8) \n",
    "plt.style.use('fivethirtyeight')\n",
    "\n",
    "# date time library\n",
    "import datetime as dt"
   ]
  },
  {
   "cell_type": "markdown",
   "metadata": {
    "id": "cU1SjmwuzUU5"
   },
   "source": [
    "## Helper functions"
   ]
  },
  {
   "cell_type": "code",
   "execution_count": 3,
   "metadata": {
    "id": "UlXnUV9Wy0OK"
   },
   "outputs": [],
   "source": [
    "def missing_cols(df):\n",
    "    total = 0\n",
    "    for col in df.columns:\n",
    "        missing_vals = df[col].isnull().sum()\n",
    "        pct = df[col].isnull().mean() * 100 \n",
    "        if missing_vals != 0:\n",
    "          print('{} => {} [{}%]'.format(col, df[col].isnull().sum(), round(pct, 2)))\n",
    "        total += missing_vals\n",
    "    \n",
    "    if total == 0:\n",
    "        print(\"no missing values left 🎉 \")\n",
    "\n",
    "def get_memory(df):\n",
    "  print(f\"{round(df.memory_usage().sum() / 1000000, 2)} MB\")"
   ]
  },
  {
   "cell_type": "markdown",
   "metadata": {
    "id": "qnGfIdZqq3KF"
   },
   "source": [
    "## Load data"
   ]
  },
  {
   "cell_type": "code",
   "execution_count": 4,
   "metadata": {
    "id": "Tr3ZGVo7vu3a"
   },
   "outputs": [],
   "source": [
    "# data from github repo: https://raw.githubusercontent.com/notelai/data/master/rawdata_AB_NYC_2019.csv\n",
    "url = 'https://raw.githubusercontent.com/notelai/data/master/rawdata_AB_NYC_2019.csv'\n",
    "\n",
    "df = pd.read_csv(url)"
   ]
  },
  {
   "cell_type": "markdown",
   "metadata": {
    "id": "aRqQRaKTq4Y2"
   },
   "source": [
    "### df shape \n"
   ]
  },
  {
   "cell_type": "code",
   "execution_count": 91,
   "metadata": {
    "colab": {
     "base_uri": "https://localhost:8080/"
    },
    "id": "TOND6uRpT-PF",
    "outputId": "0abda99f-0cb3-48bc-f9df-67c2f460c51c"
   },
   "outputs": [],
   "source": [
    " # (no. of rows, no. of columns)"
   ]
  },
  {
   "cell_type": "markdown",
   "metadata": {
    "id": "D7nH_as11OaG"
   },
   "source": [
    "### summary, data types, first 5 rows of data, last five rows of data, randomly sample rows"
   ]
  },
  {
   "cell_type": "code",
   "execution_count": null,
   "metadata": {
    "colab": {
     "base_uri": "https://localhost:8080/"
    },
    "id": "qGSud0K31NWM",
    "outputId": "76ff36ea-c62a-4026-8b8d-5d227daff414",
    "scrolled": true
   },
   "outputs": [],
   "source": []
  },
  {
   "cell_type": "markdown",
   "metadata": {
    "id": "rv4r9ebssu7k"
   },
   "source": [
    "## Rename columns"
   ]
  },
  {
   "cell_type": "code",
   "execution_count": 92,
   "metadata": {
    "colab": {
     "base_uri": "https://localhost:8080/"
    },
    "id": "AzpGRpLSrH5V",
    "outputId": "c4062234-3279-498c-8cb7-5f2477236c08"
   },
   "outputs": [],
   "source": [
    "# show columns of dataframe\n"
   ]
  },
  {
   "cell_type": "code",
   "execution_count": 93,
   "metadata": {
    "colab": {
     "base_uri": "https://localhost:8080/"
    },
    "id": "c1mUuiiL23m-",
    "outputId": "80e37819-a8c1-4ec1-b8b4-d335a3b41dc4"
   },
   "outputs": [],
   "source": [
    " # turn into list"
   ]
  },
  {
   "cell_type": "markdown",
   "metadata": {
    "id": "3RTkBBQD7bM4"
   },
   "source": [
    "### string methods"
   ]
  },
  {
   "cell_type": "code",
   "execution_count": 94,
   "metadata": {
    "colab": {
     "base_uri": "https://localhost:8080/"
    },
    "id": "ZcEfyftBtW1L",
    "outputId": "b09d1e6d-dcce-4b86-dcdd-abae387703f9"
   },
   "outputs": [],
   "source": [
    "# replace whitespace with underscore '_'\n",
    "\n",
    "\n",
    "# lower case column names\n",
    "\n"
   ]
  },
  {
   "cell_type": "code",
   "execution_count": null,
   "metadata": {},
   "outputs": [],
   "source": []
  },
  {
   "cell_type": "markdown",
   "metadata": {
    "id": "MxqIUh3c7eBn"
   },
   "source": [
    "### pandas rename"
   ]
  },
  {
   "cell_type": "code",
   "execution_count": 95,
   "metadata": {
    "colab": {
     "base_uri": "https://localhost:8080/"
    },
    "id": "_-U4o250tGAL",
    "outputId": "db038763-aa03-458f-b017-9c1e5de43934"
   },
   "outputs": [],
   "source": [
    "# {'original_name' : 'new_name'}\n",
    "\n",
    "# only returning output\n"
   ]
  },
  {
   "cell_type": "markdown",
   "metadata": {
    "id": "gwSif4Vr7h_e"
   },
   "source": [
    "### inplace = True\n",
    "\n",
    "- updates the data frame itself instead of returning an output"
   ]
  },
  {
   "cell_type": "code",
   "execution_count": null,
   "metadata": {
    "colab": {
     "base_uri": "https://localhost:8080/"
    },
    "id": "KQdWE2D9xD7Q",
    "outputId": "34668d61-fe3e-42f6-f7d9-8266066407c1"
   },
   "outputs": [],
   "source": []
  },
  {
   "cell_type": "markdown",
   "metadata": {
    "id": "mkvN-xoLydRd"
   },
   "source": [
    "## Remove labels from values\n",
    "\n",
    "- dollar sign -> Mixture of string and integer\n",
    "- cause problems when filling in missing values or converting data types\n",
    "- remove dollar sign and labels similar\n",
    "\n"
   ]
  },
  {
   "cell_type": "code",
   "execution_count": null,
   "metadata": {
    "colab": {
     "base_uri": "https://localhost:8080/"
    },
    "id": "FXEyBl9FydFm",
    "outputId": "84d74da9-9818-44a2-d1f3-b64f492e3c7e"
   },
   "outputs": [],
   "source": []
  },
  {
   "cell_type": "markdown",
   "metadata": {
    "id": "r7HsAlNPT8Ym"
   },
   "source": [
    "### Converting to numeric column \"price\""
   ]
  },
  {
   "cell_type": "code",
   "execution_count": null,
   "metadata": {
    "colab": {
     "base_uri": "https://localhost:8080/"
    },
    "id": "-WGXOfXdJhpf",
    "outputId": "cf8fec81-73b9-423c-f8a0-67ec4d01f3ec"
   },
   "outputs": [],
   "source": []
  },
  {
   "cell_type": "markdown",
   "metadata": {
    "id": "K-Ez79xJUQq5"
   },
   "source": [
    "### Convert to category\n",
    "\n",
    "- `neighbourhood_group`\n",
    "- `neighbourhood`\n",
    "- `room_type`\n",
    "\n",
    "Guidelines for conversion\n",
    "- to reduce memory and increase performance with operations related to categorical data\n",
    "- make sure data is clean before converting it\n"
   ]
  },
  {
   "cell_type": "code",
   "execution_count": null,
   "metadata": {},
   "outputs": [],
   "source": []
  },
  {
   "cell_type": "code",
   "execution_count": null,
   "metadata": {},
   "outputs": [],
   "source": []
  },
  {
   "cell_type": "markdown",
   "metadata": {
    "id": "N2xWoHsmW0ii"
   },
   "source": [
    "### Convert to datetime "
   ]
  },
  {
   "cell_type": "code",
   "execution_count": null,
   "metadata": {},
   "outputs": [],
   "source": []
  },
  {
   "cell_type": "markdown",
   "metadata": {
    "id": "CECVg8UcXIM1"
   },
   "source": [
    "### Changing numeric types\n",
    "\n",
    "ex: changing int types (int8 | int16 | int32 | int64)\n",
    "\n",
    "- the numbers stands for bit\n",
    "- int8 can store integers from -128 to 127.\n",
    "- int16 can store integers from -32768 to 32767.\n",
    "- int64 can store integers from -9223372036854775808 to 9223372036854775807."
   ]
  },
  {
   "cell_type": "code",
   "execution_count": null,
   "metadata": {},
   "outputs": [],
   "source": []
  },
  {
   "cell_type": "code",
   "execution_count": null,
   "metadata": {},
   "outputs": [],
   "source": []
  },
  {
   "cell_type": "markdown",
   "metadata": {
    "id": "8diBhfloR-PO"
   },
   "source": [
    "## Missing data"
   ]
  },
  {
   "cell_type": "markdown",
   "metadata": {
    "id": "6SZHaxDq514h"
   },
   "source": [
    "### Checking which columns have missing data"
   ]
  },
  {
   "cell_type": "code",
   "execution_count": null,
   "metadata": {},
   "outputs": [],
   "source": []
  },
  {
   "cell_type": "markdown",
   "metadata": {
    "id": "mBuixie550PE"
   },
   "source": [
    "### summing the missing values"
   ]
  },
  {
   "cell_type": "code",
   "execution_count": null,
   "metadata": {},
   "outputs": [],
   "source": []
  },
  {
   "cell_type": "markdown",
   "metadata": {
    "id": "BCXNOb5P5yJ1"
   },
   "source": [
    "### percentage of missing data"
   ]
  },
  {
   "cell_type": "code",
   "execution_count": null,
   "metadata": {},
   "outputs": [],
   "source": []
  },
  {
   "cell_type": "code",
   "execution_count": null,
   "metadata": {},
   "outputs": [],
   "source": []
  },
  {
   "cell_type": "markdown",
   "metadata": {
    "id": "yhgUL5yW7K8n"
   },
   "source": [
    "### How to deal with missing data?\n",
    "\n",
    "Dealing with missing data is not simple task, you have need to consider why the data is missing in the first place, and domain knowledge to know what to impute. \n",
    "\n",
    "There also isn't a specific threshold for what percentage of missing data is accepted, it depends on the data.\n",
    "\n",
    "If you mess it up, you will introduce bias to your data.  \n",
    "\n",
    "\n",
    "#### Techniques \n",
    "1. Drop feature \n",
    "1. Drop the rows\n",
    "1. Impute missing values (manually or automatically)\n"
   ]
  },
  {
   "cell_type": "code",
   "execution_count": null,
   "metadata": {},
   "outputs": [],
   "source": []
  },
  {
   "cell_type": "markdown",
   "metadata": {
    "id": "clL4rrdm3pjq"
   },
   "source": [
    "#### Dropping columns with missing values\n",
    "\n",
    "- usually worst strategy unless it has a lot of missing data (over 80 or 90%), or feature is not useful"
   ]
  },
  {
   "cell_type": "code",
   "execution_count": null,
   "metadata": {},
   "outputs": [],
   "source": []
  },
  {
   "cell_type": "code",
   "execution_count": null,
   "metadata": {},
   "outputs": [],
   "source": []
  },
  {
   "cell_type": "markdown",
   "metadata": {
    "id": "Adv4-ZqH8w3T"
   },
   "source": [
    "#### Remove rows with missing values\n",
    "- Losing even more information (from other columns), so not the best method"
   ]
  },
  {
   "cell_type": "code",
   "execution_count": null,
   "metadata": {},
   "outputs": [],
   "source": []
  },
  {
   "cell_type": "markdown",
   "metadata": {
    "id": "Lhu8RMKg80Bb"
   },
   "source": [
    "#### Impute missing values\n",
    "\n",
    "\n",
    "- A constant value related to the data, such as 0 for `number_of_reviews`, or \"None\" for `listing_name`.\n",
    "- The value before or after the data point (backward fill, forward fill)\n",
    "- Summary statistics such as mean, median or mode value for the column.\n",
    "- A value estimated by algorithms or ML models like KNN.\n",
    " "
   ]
  },
  {
   "cell_type": "code",
   "execution_count": null,
   "metadata": {},
   "outputs": [],
   "source": []
  },
  {
   "cell_type": "markdown",
   "metadata": {
    "id": "-D2-91B8F89Z"
   },
   "source": [
    "##### Imputing manually with pandas fillna"
   ]
  },
  {
   "cell_type": "code",
   "execution_count": null,
   "metadata": {},
   "outputs": [],
   "source": []
  },
  {
   "cell_type": "markdown",
   "metadata": {
    "id": "RnHolWGVF_7Q"
   },
   "source": [
    "##### Imputing with bfill and ffill\n",
    "\n",
    "bfill\n",
    "- bfill stands for backwards fill\n",
    "- means filling in missing value with value after it (fill it backwards)\n",
    "\n",
    "ffill\n",
    "- ffill stands for forward fill\n",
    "- means filling in missing value with value before it (fill it forwards)\n"
   ]
  },
  {
   "cell_type": "code",
   "execution_count": null,
   "metadata": {},
   "outputs": [],
   "source": []
  },
  {
   "cell_type": "markdown",
   "metadata": {
    "id": "5WrQ12BDFTh0"
   },
   "source": [
    "## Explode Date column"
   ]
  },
  {
   "cell_type": "code",
   "execution_count": null,
   "metadata": {},
   "outputs": [],
   "source": []
  },
  {
   "cell_type": "markdown",
   "metadata": {
    "id": "HlW5jIRlpP94"
   },
   "source": [
    "## Data Inconsistencies"
   ]
  },
  {
   "cell_type": "markdown",
   "metadata": {
    "id": "y-3wzMUizrNk"
   },
   "source": [
    "### out of range data"
   ]
  },
  {
   "cell_type": "markdown",
   "metadata": {
    "id": "gw3cxFoAE5vN"
   },
   "source": [
    "#### Are the values in the column `availability_365` within 365 ?"
   ]
  },
  {
   "cell_type": "code",
   "execution_count": null,
   "metadata": {},
   "outputs": [],
   "source": []
  },
  {
   "cell_type": "markdown",
   "metadata": {
    "id": "k1WsQak9p07G"
   },
   "source": [
    "##### Assert keyword"
   ]
  },
  {
   "cell_type": "code",
   "execution_count": null,
   "metadata": {},
   "outputs": [],
   "source": []
  },
  {
   "cell_type": "markdown",
   "metadata": {
    "id": "MynRqMVPE2jm"
   },
   "source": [
    "#### Are lat and long coords valid coordinates?\n",
    "\n",
    "- The latitude must be a number between -90 and 90 and the longitude between -180 and 180\n",
    "\n",
    "Since you know the lat and long coords are for new york, you can ask the question whether the coords are within NYC itself"
   ]
  },
  {
   "cell_type": "code",
   "execution_count": null,
   "metadata": {},
   "outputs": [],
   "source": []
  },
  {
   "cell_type": "markdown",
   "metadata": {
    "id": "187ZH4tkzjO1"
   },
   "source": [
    "### Categorical data inconsistency\n",
    "\n",
    "- caused by human error (wrong spelling, different case categories)"
   ]
  },
  {
   "cell_type": "code",
   "execution_count": null,
   "metadata": {},
   "outputs": [],
   "source": []
  },
  {
   "cell_type": "markdown",
   "metadata": {
    "id": "Cfda1EoxGX5f"
   },
   "source": [
    "Usually it isn't so easy to deal with these value consistency since there could be hundreds of categories like the neighborhood column which has over 200 types, there are two ways to deal with this issue\n",
    "\n",
    "1. **Preprocess the text (lowercase, strip whitespace)**\n",
    "1. Use fuzzy matching to find similar words, and replace them. "
   ]
  },
  {
   "cell_type": "code",
   "execution_count": null,
   "metadata": {},
   "outputs": [],
   "source": []
  },
  {
   "cell_type": "markdown",
   "metadata": {
    "id": "6AbUg11Czf4N"
   },
   "source": [
    "### Duplicate rows"
   ]
  },
  {
   "cell_type": "code",
   "execution_count": null,
   "metadata": {},
   "outputs": [],
   "source": []
  },
  {
   "cell_type": "markdown",
   "metadata": {
    "id": "i1NjHgTqGcDW"
   },
   "source": [
    "## Outliers\n",
    "\n",
    "What?\n",
    "- data point that is far from other observations in our data\n",
    "- it arises from to erorrs in data collection or due to the influence of various factors on data\n",
    "- when there are outliers which indicates erroneous or abnormal data then we can either remove them or correct them.\n",
    "\n",
    "How to detect?\n",
    "- with boxplots and histograms\n",
    "- statistical methods like IQR, skewness, etc.\n",
    "\n",
    "> To choose the best way to handle outliers one must have a good domain knowledge and information about where the data come from and what they mean ; it also depends on what analysis one is planning to perform.\n"
   ]
  },
  {
   "cell_type": "markdown",
   "metadata": {
    "id": "Ic6LsF6SK7ZH"
   },
   "source": [
    "### Continuous data"
   ]
  },
  {
   "cell_type": "code",
   "execution_count": null,
   "metadata": {},
   "outputs": [],
   "source": []
  },
  {
   "cell_type": "markdown",
   "metadata": {
    "id": "UdSu0JmBk4kl"
   },
   "source": [
    "#### plotting a histogram"
   ]
  },
  {
   "cell_type": "code",
   "execution_count": null,
   "metadata": {},
   "outputs": [],
   "source": []
  },
  {
   "cell_type": "markdown",
   "metadata": {},
   "source": [
    "#### Plotting a boxplot"
   ]
  },
  {
   "cell_type": "code",
   "execution_count": null,
   "metadata": {},
   "outputs": [],
   "source": []
  },
  {
   "cell_type": "markdown",
   "metadata": {
    "id": "mNkP5rDTK_k6"
   },
   "source": [
    "### Categorical data"
   ]
  },
  {
   "cell_type": "code",
   "execution_count": null,
   "metadata": {},
   "outputs": [],
   "source": []
  },
  {
   "cell_type": "markdown",
   "metadata": {
    "id": "_iO-gaf8lAXx"
   },
   "source": [
    "#### Plotting a bar plot\n",
    "\n"
   ]
  },
  {
   "cell_type": "code",
   "execution_count": null,
   "metadata": {},
   "outputs": [],
   "source": []
  },
  {
   "cell_type": "markdown",
   "metadata": {
    "id": "Vjdr-1ucvVE3"
   },
   "source": [
    "## Save final cleaned dataset"
   ]
  },
  {
   "cell_type": "code",
   "execution_count": null,
   "metadata": {},
   "outputs": [],
   "source": []
  }
 ],
 "metadata": {
  "colab": {
   "collapsed_sections": [],
   "name": "Data Cleaning with Python Workshop.ipynb",
   "provenance": []
  },
  "kernelspec": {
   "display_name": "Python 3",
   "language": "python",
   "name": "python3"
  },
  "language_info": {
   "codemirror_mode": {
    "name": "ipython",
    "version": 3
   },
   "file_extension": ".py",
   "mimetype": "text/x-python",
   "name": "python",
   "nbconvert_exporter": "python",
   "pygments_lexer": "ipython3",
   "version": "3.6.13"
  }
 },
 "nbformat": 4,
 "nbformat_minor": 1
}
